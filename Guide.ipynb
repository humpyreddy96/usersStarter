{
 "cells": [
  {
   "cell_type": "markdown",
   "metadata": {
    "editable": true
   },
   "source": [
    "## Workspace Instructions\n",
    "\n",
    "The Angular CLI has been installed and is ready to use! Follow these quick steps to get your application up and running:\n",
    "\n",
    "1. To initialize the Workspace, click the `SET UP WORKSPACE` button.\n",
    "2. To serve an Angular application: After scaffolding a new Angular application, `cd` into its root directory, then click the `START ANGULAR` button.\n",
    "3. To open an Angular application in a browser window, click on `OPEN APP`.\n",
    "\n",
    "## Exercise Instructions\n",
    "\n",
    "1. Navigate to the project in the `Starter` folder, then run `npm install`.\n",
    "2. Open the `AppModule`.\n",
    "3. Import the `HttpClientModule` from `@angular/common/http`. Be sure to also update the `imports` property in `@NgModule`.\n",
    "4. Generate a new service, `Http`.\n",
    "5. Open the newly-generated service.\n",
    "6. Import `Observable` from `rxjs`.\n",
    "7. Import the `HttpClient` from `@angular/common/http`.\n",
    "8. Inject the `HttpClient` into the `constructor()`.\n",
    "9. Create a function, `getUsers()`, which makes an HTTP call to `https://jsonplaceholder.typicode.com/users` and returns an `Observable` (Hint: Which HTTP method should you use?)\n",
    "10. Open the `Users` component class.\n",
    "11. Import the newly-created `HttpService`.\n",
    "12. Inject the `HttpService` into the `constructor()`.\n",
    "13. Create a class property, `users`.\n",
    "13. Upon initialization, the `Users` component should make a call to the `HttpService`'s `getUsers()` method. After subscribing to the returned `Observable`, set the value of `users` to the returned array.\n",
    "14. Open the `User` component's HTML template and render an unordered list of `username`s of all user objects (Hint: Recall how to iterate over a collection -- which directive would be useful here?)\n",
    "15. Serve the application on port `3000` (or click `Start Angular` if using this Workspace).\n",
    "16. View the component you've just created in the browser! "
   ]
  },
  {
   "cell_type": "markdown",
   "metadata": {
    "editable": true,
    "ulab": {
     "buttons": {
      "ulab-button-b45c859f": {
       "bashCommand": "source setup_node.sh",
       "filesToOpen": [],
       "isPreviewButton": false,
       "runInBackground": false,
       "style": "primary",
       "text": "SET UP WORKSPACE",
       "toggleOffText": "HIDE SOLUTION",
       "toggleOnText": "SHOW SOLUTION"
      }
     }
    }
   },
   "source": [
    "<button id=\"ulab-button-b45c859f\" class=\"ulab-btn--primary\"></button>"
   ]
  },
  {
   "cell_type": "markdown",
   "metadata": {
    "editable": true,
    "ulab": {
     "buttons": {
      "ulab-button-29be98dd": {
       "bashCommand": "ng serve --port 3000 --host 0.0.0.0 --disableHostCheck true",
       "filesToOpen": [],
       "isPreviewButton": false,
       "runInBackground": false,
       "style": "primary",
       "text": "START ANGULAR",
       "toggleOffText": "HIDE SOLUTION",
       "toggleOnText": "SHOW SOLUTION"
      },
      "ulab-button-34c8e873": {
       "bashCommand": "",
       "filesToOpen": [],
       "isPreviewButton": true,
       "runInBackground": false,
       "style": "primary",
       "text": "OPEN APP",
       "toggleOffText": "HIDE SOLUTION",
       "toggleOnText": "SHOW SOLUTION"
      }
     }
    }
   },
   "source": [
    "<button id=\"ulab-button-29be98dd\" class=\"ulab-btn--primary\"></button>"
   ]
  },
  {
   "cell_type": "markdown",
   "metadata": {
    "editable": true,
    "ulab": {
     "buttons": {
      "ulab-button-b3f3478d": {
       "bashCommand": "",
       "filesToOpen": [],
       "isPreviewButton": true,
       "runInBackground": false,
       "style": "primary",
       "text": "OPEN APP",
       "toggleOffText": "HIDE SOLUTION",
       "toggleOnText": "SHOW SOLUTION"
      }
     }
    }
   },
   "source": [
    "<button id=\"ulab-button-b3f3478d\" class=\"ulab-btn--primary\"></button>"
   ]
  }
 ],
 "metadata": {
  "kernelspec": {
   "display_name": "Python 3",
   "language": "python",
   "name": "python3"
  },
  "language_info": {
   "codemirror_mode": {
    "name": "ipython",
    "version": 3
   },
   "file_extension": ".py",
   "mimetype": "text/x-python",
   "name": "python",
   "nbconvert_exporter": "python",
   "pygments_lexer": "ipython3",
   "version": "3.6.3"
  },
  "ulab_nb_type": "guided"
 },
 "nbformat": 4,
 "nbformat_minor": 4
}
